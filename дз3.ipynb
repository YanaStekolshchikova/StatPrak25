{
  "nbformat": 4,
  "nbformat_minor": 0,
  "metadata": {
    "colab": {
      "provenance": [],
      "authorship_tag": "ABX9TyPNs/qcbujwdgzQTcQQxx/l"
    },
    "kernelspec": {
      "name": "python3",
      "display_name": "Python 3"
    },
    "language_info": {
      "name": "python"
    }
  },
  "cells": [
    {
      "cell_type": "markdown",
      "source": [
        "#Problem 1\n",
        "Idea: break the sequence  x1,x2,x3,...,x2n  into consecutive series of length  2 :  (x1,x2),(x3,x4),...,(x2n−1,x2n)  and look at each element as a random and independent point in  2D  space. Next, apply chi-square. Similarly, one can construct series of length  3,4 , etc.\n",
        "\n",
        "\n",
        "Implement serial test and apply to a samples"
      ],
      "metadata": {
        "id": "haZGfHAe501E"
      }
    },
    {
      "cell_type": "code",
      "source": [
        "import numpy as np\n",
        "from scipy import stats\n",
        "\n",
        "def rng(m=2**32, a=1103515245, c=12345):\n",
        "    rng.current = (a * rng.current + c) % m\n",
        "    return rng.current / m\n",
        "\n",
        "rng.current = 1\n",
        "samples = np.array([rng() for _ in range(1000)])\n",
        "\n",
        "\n",
        "def serial_test(samples, series_length, k):\n",
        "    series = np.array([samples[i:i + series_length] for i in range(0, len(samples), series_length)])\n",
        "    bins = [np.linspace(0, 1, k + 1) for _ in range(series_length)]\n",
        "\n",
        "    f_obs =  np.histogramdd(series, bins)[0] #наблюдаемые\n",
        "    f_exp = np.full_like(f_obs,  len(series) / k**series_length, dtype=float) #ожидаемые\n",
        "\n",
        "    p_value = stats.chisquare(f_obs.ravel(), f_exp.ravel())\n",
        "    return p_value\n",
        "\n",
        "\n",
        "res = serial_test(samples, series_length=2, k=20)\n",
        "print(res)"
      ],
      "metadata": {
        "colab": {
          "base_uri": "https://localhost:8080/"
        },
        "id": "0gCHyt9MWWKJ",
        "outputId": "c1336048-375d-498c-efe6-98809c63bc79"
      },
      "execution_count": 1,
      "outputs": [
        {
          "output_type": "stream",
          "name": "stdout",
          "text": [
            "Power_divergenceResult(statistic=391.2, pvalue=0.6003664860752091)\n"
          ]
        }
      ]
    },
    {
      "cell_type": "markdown",
      "source": [
        "##Problem 3\n",
        "Provide a statistical test to show that rng_bad has problems but rng_good does not."
      ],
      "metadata": {
        "id": "sCYeqUvVn000"
      }
    },
    {
      "cell_type": "code",
      "source": [
        "import numpy as np\n",
        "from scipy import stats\n",
        "\n",
        "def rng_bad(m=2**31, a=65539, c=0):\n",
        "    rng_bad.current = (a * rng_bad.current + c) % m\n",
        "    return rng_bad.current / m\n",
        "rng_bad.current = 1\n",
        "samples_bad = [rng_bad() for _ in range(1000)]\n",
        "\n",
        "def rng_good(m=2**32, a=1103515245, c=12345):\n",
        "    rng_good.current = (a * rng_good.current + c) % m\n",
        "    return rng_good.current / m\n",
        "rng_good.current = 1\n",
        "samples_good = [rng_good() for _ in range(1000)]\n",
        "\n",
        "k_bad = 20\n",
        "f_obs_bad = np.histogram(samples_bad, np.linspace(0, 1, k_bad + 1))[0]\n",
        "f_exp_bad = np.full(k_bad, len(samples_bad) // k_bad)\n",
        "k_good = 20\n",
        "f_obs_good = np.histogram(samples_good, np.linspace(0, 1, k_good + 1))[0]\n",
        "f_exp_good = np.full(k_bad, len(samples_good) // k_good)\n",
        "\n",
        "print('for rng_bad ', stats.chisquare(f_obs_bad, f_exp_bad))\n",
        "print('for rng_good ', stats.chisquare(f_obs_good, f_exp_good))\n"
      ],
      "metadata": {
        "colab": {
          "base_uri": "https://localhost:8080/"
        },
        "id": "OdVE-Zn3n4p2",
        "outputId": "d04fcef3-04f8-4fbc-8002-173b1bf30313"
      },
      "execution_count": 3,
      "outputs": [
        {
          "output_type": "stream",
          "name": "stdout",
          "text": [
            "for rng_bad  Power_divergenceResult(statistic=32.44, pvalue=0.027867772740595254)\n",
            "for rng_good  Power_divergenceResult(statistic=19.279999999999998, pvalue=0.4390107032251506)\n"
          ]
        }
      ]
    },
    {
      "cell_type": "markdown",
      "source": [],
      "metadata": {
        "id": "A4FYSaQODpsR"
      }
    },
    {
      "cell_type": "markdown",
      "source": [
        "Действительно, значение pvalue слишком маленькое в случае rng_bad"
      ],
      "metadata": {
        "id": "7b2ORq2E4djT"
      }
    },
    {
      "cell_type": "markdown",
      "source": [
        "##Problem 4\n",
        "Simulate a sample of 1000 from a discrete distribution on a set of digits  0,1,2,…,9  with weights  0.12,0.3,0.167,0.24,0.31,0.54,0.111,0.02,0.001,0.2 . Construct a histogram from the sample. Optimise the algorithm by ordering the weights."
      ],
      "metadata": {
        "id": "LewO-DBPDiUs"
      }
    },
    {
      "cell_type": "code",
      "source": [
        "import numpy as np\n",
        "import matplotlib.pyplot as plt\n",
        "\n",
        "weights = np.array([0.12, 0.3, 0.167, 0.24, 0.31, 0.54, 0.111, 0.02, 0.001, 0.2])\n",
        "digits = np.arange(10)\n",
        "\n",
        "sorted_index = np.argsort(weights)\n",
        "sorted_weights = weights[sorted_index]\n",
        "sorted_digits = digits[sorted_index]\n",
        "\n",
        "sample = np.random.choice(sorted_digits, size=1000, p=sorted_weights / sorted_weights.sum())\n",
        "\n",
        "plt.hist(sample, bins=np.arange(-0.5, 10.5, 1), density=True, edgecolor='black')\n",
        "plt.xticks(digits)\n",
        "plt.ylabel(\"Частота\")\n",
        "plt.xlabel(\"Цифры\")\n",
        "plt.show()\n"
      ],
      "metadata": {
        "colab": {
          "base_uri": "https://localhost:8080/",
          "height": 449
        },
        "id": "eTBTMjkDYgJA",
        "outputId": "23b32dd2-5c19-4b89-a291-d51340d446ef"
      },
      "execution_count": 4,
      "outputs": [
        {
          "output_type": "display_data",
          "data": {
            "text/plain": [
              "<Figure size 640x480 with 1 Axes>"
            ],
            "image/png": "[encoded data removed]"
          },
          "metadata": {}
        }
      ]
    },
    {
      "cell_type": "markdown",
      "source": [
        "## Problem 5\n",
        "Simulate a sample of size 1000 from the distribution $\\operatorname{Exp}(\\lambda)$ using the Inverse transform method. Construct a sample histogram and an accurate plot of the distribution density."
      ],
      "metadata": {
        "id": "HKQMTiMWYqJQ"
      }
    },
    {
      "cell_type": "code",
      "source": [],
      "metadata": {
        "id": "dfkECxiGav_4"
      },
      "execution_count": null,
      "outputs": []
    }
  ]
}