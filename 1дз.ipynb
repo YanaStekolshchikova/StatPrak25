{
  "nbformat": 4,
  "nbformat_minor": 0,
  "metadata": {
    "colab": {
      "provenance": [],
      "authorship_tag": "ABX9TyMQNouImrIihinaCKozbv76"
    },
    "kernelspec": {
      "name": "python3",
      "display_name": "Python 3"
    },
    "language_info": {
      "name": "python"
    }
  },
  "cells": [
    {
      "cell_type": "markdown",
      "source": [
        "**Problem 1**\n",
        "\n",
        "Make a tuple containing natural numbers, the square of which is a multiple of 3, 4, but not a multiple of 8 and not exceeding 12345."
      ],
      "metadata": {
        "id": "BAquV0plWhcJ"
      }
    },
    {
      "cell_type": "code",
      "source": [
        "res = tuple(x for x in range(1, int(12345 ** 0.5)) if x % 6 == 0 and x % 4 != 0)\n",
        "print(res)"
      ],
      "metadata": {
        "id": "XcOMpwP6Wlhq",
        "colab": {
          "base_uri": "https://localhost:8080/"
        },
        "outputId": "3bba00b1-e7e1-4fc2-af4d-8de563099d50"
      },
      "execution_count": 10,
      "outputs": [
        {
          "output_type": "stream",
          "name": "stdout",
          "text": [
            "(6, 18, 30, 42, 54, 66, 78, 90, 102)\n"
          ]
        }
      ]
    }
  ]
}