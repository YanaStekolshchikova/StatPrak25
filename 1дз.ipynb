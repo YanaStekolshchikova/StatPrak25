{
  "nbformat": 4,
  "nbformat_minor": 0,
  "metadata": {
    "colab": {
      "provenance": [],
      "authorship_tag": "ABX9TyP47ZjQi0d9Jwc7T1tM9bsV"
    },
    "kernelspec": {
      "name": "python3",
      "display_name": "Python 3"
    },
    "language_info": {
      "name": "python"
    }
  },
  "cells": [
    {
      "cell_type": "markdown",
      "source": [
        "**Problem 1**\n",
        "\n",
        "Make a tuple containing natural numbers, the square of which is a multiple of 3, 4, but not a multiple of 8 and not exceeding 12345."
      ],
      "metadata": {
        "id": "BAquV0plWhcJ"
      }
    },
    {
      "cell_type": "code",
      "source": [
        "res = tuple(x for x in range(1, int(12345 ** 0.5) + 1) if x % 6 == 0 and x % 4 != 0)\n",
        "print(res)"
      ],
      "metadata": {
        "id": "XcOMpwP6Wlhq",
        "colab": {
          "base_uri": "https://localhost:8080/"
        },
        "outputId": "3bba00b1-e7e1-4fc2-af4d-8de563099d50"
      },
      "execution_count": 10,
      "outputs": [
        {
          "output_type": "stream",
          "name": "stdout",
          "text": [
            "(6, 18, 30, 42, 54, 66, 78, 90, 102)\n"
          ]
        }
      ]
    },
    {
      "cell_type": "markdown",
      "source": [
        "\n",
        "\n",
        "**Problem 2**\n",
        "\n",
        "Write a function that takes a two-dimensional array and a string as input and returns an array rotated 90 degrees counterclockwise if the string 'left' was passed, and clockwise if the string 'right' was passed.\n",
        "\n",
        "Example for input: $\\begin{bmatrix} 1 & 2 & 3 \\\\ 4 & 5 & 6 \\\\ 7 & 8 & 9 \\end{bmatrix}$.\\\n",
        "If the string 'left' is passed, the function should return $\\begin{bmatrix} 3 & 6 & 9 \\\\ 2 & 5 & 8 \\\\ 1 & 4 & 7 \\end{bmatrix}$, and if the string 'right' is passed, the function should return $\\begin{bmatrix} 7 & 4 & 1 \\\\ 8 & 5 & 2 \\\\ 9 & 6 & 3 \\end{bmatrix}$."
      ],
      "metadata": {
        "id": "p6HnVzAGhexK"
      }
    },
    {
      "cell_type": "code",
      "source": [
        "def rotate_matrix(matrix, string):\n",
        "  if string == 'left':\n",
        "     return [list(row) for row in zip(*matrix)][::-1]\n",
        "  elif string == 'right':\n",
        "    return [list(row) for row in zip(*matrix[::-1])]\n",
        "  else:\n",
        "     raise ValueError(\"please enter matrix, 'left' or 'right'.\")\n",
        "# распаковываем по строкам, создаем новые, преобразуем в списки\n",
        "# пример использования:\n",
        "matrix = [[1, 2, 3], [4, 5, 6], [7, 8, 9]]\n",
        "print(rotate_matrix(matrix, 'left'))\n",
        "print(rotate_matrix(matrix, 'right'))\n"
      ],
      "metadata": {
        "colab": {
          "base_uri": "https://localhost:8080/"
        },
        "id": "8rzM-mMQI7MO",
        "outputId": "77df0207-ee58-4929-8b92-ccfbc839176f"
      },
      "execution_count": 34,
      "outputs": [
        {
          "output_type": "stream",
          "name": "stdout",
          "text": [
            "[[3, 6, 9], [2, 5, 8], [1, 4, 7]]\n",
            "[[7, 4, 1], [8, 5, 2], [9, 6, 3]]\n"
          ]
        }
      ]
    },
    {
      "cell_type": "markdown",
      "source": [
        "\n",
        "\n",
        "**Problem 3**\n",
        "\n",
        "Write a function that takes a string as input and returns a dictionary containing the number of occurrences of each character in the string.\n",
        "\n",
        "Example for the string 'hello, world!': {'h': 1, 'e': 1, 'l': 3, 'o': 2, ',': 1, ' ': 1, 'w': 1, 'r': 1, 'd': 1, '!': 1}."
      ],
      "metadata": {
        "id": "RF20EtHYOU3y"
      }
    },
    {
      "cell_type": "code",
      "source": [
        "def count_symbols(string):\n",
        "\n",
        "  symb_count = {}\n",
        "  for symb in string:\n",
        "    if symb in symb_count:\n",
        "      symb_count[symb] += 1\n",
        "    else:\n",
        "      symb_count[symb] = 1\n",
        "  return symb_count\n",
        "\n",
        "# пример использования:\n",
        "print(count_symbols('hello, world!'))"
      ],
      "metadata": {
        "colab": {
          "base_uri": "https://localhost:8080/"
        },
        "id": "fvaW5mQbOdq5",
        "outputId": "70ddf4fd-e3bc-4129-b1d4-692480dff6de"
      },
      "execution_count": 48,
      "outputs": [
        {
          "output_type": "stream",
          "name": "stdout",
          "text": [
            "{'h': 1, 'e': 1, 'l': 3, 'o': 2, ',': 1, ' ': 1, 'w': 1, 'r': 1, 'd': 1, '!': 1}\n"
          ]
        }
      ]
    },
    {
      "cell_type": "markdown",
      "source": [
        "\n",
        "\n",
        "##Problem 4\n",
        "\n",
        "### Implementing a Library Management System\n",
        "\n",
        "#### Description\n",
        "\n",
        "You are required to design and implement a system for managing books and users in a library. The system should allow for the management of books (adding, deleting, searching by various criteria) and users (registration, deletion, searching), as well as tracking the history of interactions between them (issuing and returning books).\n",
        "\n",
        "#### Tasks\n",
        "\n",
        "1. **`Book` Class**:\n",
        "   - Attributes: title, author, year of publication, ISBN, number of copies.\n",
        "   - Methods: constructor, methods to get information about the book, method to change the number of copies (when issuing and returning books).\n",
        "\n",
        "2. **`User` Class**:\n",
        "   - Attributes: user name, library card number, list of borrowed books.\n",
        "   - Methods: constructor, methods for user registration, methods for adding and removing books from the borrowed list.\n",
        "\n",
        "3. **`Library` Class**:\n",
        "   - Attributes: list of books, list of users, transaction history (who, when, which book was borrowed and returned).\n",
        "   - Methods: constructor, methods for adding and deleting books and users, methods for issuing and returning books, searching for books and users by various criteria, method to display the transaction history.\n",
        "\n",
        "#### Assignment\n",
        "\n",
        "1. Implement the `Book`, `User`, and `Library` classes with the specified attributes and methods.\n",
        "2. Create several books and users, and add them to the library system.\n",
        "3. Implement scenarios for issuing books to users and their return.\n",
        "4. Display the transaction history to show how books were issued and returned."
      ],
      "metadata": {
        "id": "set_hisgU3vK"
      }
    },
    {
      "cell_type": "code",
      "source": [
        "class Book:\n",
        "    def __init__(self, title, author, year, isbn, copies):\n",
        "        self.title = title\n",
        "        self.author = author\n",
        "        self.year = year\n",
        "        self.isbn = isbn\n",
        "        self.copies = copies\n",
        "\n",
        "    def __str__(self):\n",
        "        return f\"'{self.title}' by {self.author}, {self.year} (ISBN: {self.isbn}, Copies: {self.copies})\"\n",
        "\n",
        "    def borrow_book(self):\n",
        "        if self.copies > 0:\n",
        "            self.copies -= 1\n",
        "            return True\n",
        "        return False\n",
        "\n",
        "    def return_book(self):\n",
        "        self.copies += 1\n",
        "\n",
        "class User:\n",
        "\n",
        "    def __init__(self, name, library_card_number):\n",
        "        self.name = name\n",
        "        self.library_card_number = library_card_number\n",
        "        self.borrowed_books = []\n",
        "\n",
        "    def __str__(self):\n",
        "        return f\"{self.name} (Card Number: {self.library_card_number})\"\n",
        "\n",
        "    def borrow(self, book):\n",
        "        if book.borrow_book():\n",
        "            self.borrowed_books.append(book)\n",
        "            print(f\"{self.name} borrowed '{book.title}'\")\n",
        "        else:\n",
        "            print(f\"'{book.title}' is not available.\")\n",
        "\n",
        "    def return_book(self, book):\n",
        "        if book in self.borrowed_books:\n",
        "            book.return_book()\n",
        "            self.borrowed_books.remove(book)\n",
        "            print(f\"{self.name} returned '{book.title}'\")\n",
        "        else:\n",
        "            print(f\"{self.name} does not have '{book.title}'\")\n",
        "\n",
        "\n",
        "class Library:\n",
        "    def __init__(self):\n",
        "        self.books = []\n",
        "        self.users = []\n",
        "        self.transaction_history = []\n",
        "\n",
        "    def add_book(self, book):\n",
        "        self.books.append(book)\n",
        "\n",
        "    def remove_book(self, book):\n",
        "        self.books.remove(book)\n",
        "\n",
        "    def register_user(self, user):\n",
        "        self.users.append(user)\n",
        "\n",
        "    def remove_user(self, user):\n",
        "        self.users.remove(user)\n",
        "\n",
        "    def borrow_book(self, user, book):\n",
        "        user.borrow(book)\n",
        "        self.transaction_history.append(f\"{user.name} borrowed '{book.title}'\")\n",
        "\n",
        "    def return_book(self, user, book):\n",
        "        user.return_book(book)\n",
        "        self.transaction_history.append(f\"{user.name} returned '{book.title}'\")\n",
        "\n",
        "    def find_books_by_title(self, title):\n",
        "        return [book for book in self.books if title.lower() in book.title.lower()]\n",
        "\n",
        "    def find_user_by_name(self, name):\n",
        "        return [user for user in self.users if name.lower() in user.name.lower()]\n",
        "\n",
        "\n",
        "# пример использования:\n",
        "\n",
        "library = Library()\n",
        "\n",
        "book1 = Book(\"matan\", \"Lukashenko\", 2000, \"1234567890\", 5)\n",
        "book2 = Book(\"algebra\", \"Bunina\", 2005, \"0987654321\", 3)\n",
        "library.add_book(book1)\n",
        "library.add_book(book2)\n",
        "\n",
        "# регистрируем пользователей\n",
        "user1 = User(\"Alex\", \"001\")\n",
        "user2 = User(\"Kate\", \"002\")\n",
        "library.register_user(user1)\n",
        "library.register_user(user2)\n",
        "\n",
        "\n",
        "library.borrow_book(user1, book1)\n",
        "library.borrow_book(user2, book1)\n",
        "library.return_book(user1, book1)\n",
        "library.borrow_book(user2, book1)\n",
        "\n",
        "# выводим историю\n",
        "print(\"\\n History:\")\n",
        "for transaction in library.transaction_history:\n",
        "    print(transaction)\n",
        "\n",
        "# ищем книги по названию\n",
        "found_books = library.find_books_by_title(\"algebra\")\n",
        "print(\"\\n Found Books:\")\n",
        "for book in found_books:\n",
        "    print(book)"
      ],
      "metadata": {
        "colab": {
          "base_uri": "https://localhost:8080/"
        },
        "id": "s-ivY1OcVR3r",
        "outputId": "f7a986e0-9253-4e24-b04b-1c1d9aacc34d"
      },
      "execution_count": 66,
      "outputs": [
        {
          "output_type": "stream",
          "name": "stdout",
          "text": [
            "Alex borrowed 'matan'\n",
            "Kate borrowed 'matan'\n",
            "Alex returned 'matan'\n",
            "Kate borrowed 'matan'\n",
            "\n",
            " History:\n",
            "Alex borrowed 'matan'\n",
            "Kate borrowed 'matan'\n",
            "Alex returned 'matan'\n",
            "Kate borrowed 'matan'\n",
            "\n",
            " Found Books:\n",
            "'algebra' by Bunina, 2005 (ISBN: 0987654321, Copies: 3)\n"
          ]
        }
      ]
    },
    {
      "cell_type": "markdown",
      "source": [
        "# Problem 5*\n",
        "\n",
        "Explain why list b changes after the execution of the following code:\n",
        "\n"
      ],
      "metadata": {
        "id": "QgE8pq4HbmDt"
      }
    },
    {
      "cell_type": "code",
      "source": [
        "a = [1, 2, 3]\n",
        "b = a\n",
        "a[0] = 4\n",
        "print(b)"
      ],
      "metadata": {
        "colab": {
          "base_uri": "https://localhost:8080/"
        },
        "id": "JBm_AIMNb9RU",
        "outputId": "25b56d9c-708e-4c37-f9eb-e0a291e2be40"
      },
      "execution_count": 75,
      "outputs": [
        {
          "output_type": "stream",
          "name": "stdout",
          "text": [
            "[4, 2, 3]\n"
          ]
        }
      ]
    },
    {
      "cell_type": "markdown",
      "source": [
        "\n",
        "*в строке b = a   - не просто выполнили присваивание, а указали ссылку на а, поэтому при изменении а изменится и b*"
      ],
      "metadata": {
        "id": "pQWu6jqkcC7r"
      }
    },
    {
      "cell_type": "markdown",
      "source": [
        "#Problem 6*\n",
        "\n",
        "Let\n",
        "$$A = \\sum_{i=1}^{10000} \\frac{1}{i^2},\\quad B=\\sum_{i=10000}^{1} \\frac{1}{i^2}.$$\n",
        "Calculate the values of $A$ and $B$ and compare them. What do you observe? Explain why this happens. What is the best way to calculate the value of $\\sum\\limits_{i=1}^{10000} \\dfrac{1}{i^2}$?"
      ],
      "metadata": {
        "id": "CNIMplIUdJB_"
      }
    },
    {
      "cell_type": "code",
      "source": [
        "A = 0\n",
        "B = 0\n",
        "\n",
        "for i in range(1, 10001):\n",
        "    A += 1 / (i ** 2)\n",
        "for i in range(10000, 0, -1):\n",
        "    B += 1 / (i ** 2)\n",
        "print(A)\n",
        "print(B)"
      ],
      "metadata": {
        "colab": {
          "base_uri": "https://localhost:8080/"
        },
        "id": "fsbnTOIFdN_q",
        "outputId": "255e0de1-e61a-4dca-967e-fefad6aaedb2"
      },
      "execution_count": 74,
      "outputs": [
        {
          "output_type": "stream",
          "name": "stdout",
          "text": [
            "1.6448340718480652\n",
            "1.6448340718480596\n"
          ]
        }
      ]
    },
    {
      "cell_type": "markdown",
      "source": [
        "A и B отличаются из-за ошибок округления при вычислениях чисел с плавающей точкой\n",
        "в А при накоплении большой суммы прибавление очень маленьких чисел может не изменить сумму. так как в В прибавляем сначала маленькие числа, потом большие, отклонение менее критично"
      ],
      "metadata": {
        "id": "200M4IY1eAnQ"
      }
    }
  ]
}