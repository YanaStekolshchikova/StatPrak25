{
  "nbformat": 4,
  "nbformat_minor": 0,
  "metadata": {
    "colab": {
      "provenance": [],
      "authorship_tag": "ABX9TyOY+xmsD5PaqA0S10VZHNyc"
    },
    "kernelspec": {
      "name": "python3",
      "display_name": "Python 3"
    },
    "language_info": {
      "name": "python"
    }
  },
  "cells": [
    {
      "cell_type": "markdown",
      "source": [
        "**Problem 1**\n",
        "\n",
        "Make a tuple containing natural numbers, the square of which is a multiple of 3, 4, but not a multiple of 8 and not exceeding 12345."
      ],
      "metadata": {
        "id": "BAquV0plWhcJ"
      }
    },
    {
      "cell_type": "code",
      "source": [
        "res = tuple(x for x in range(1, int(12345 ** 0.5) + 1) if x % 6 == 0 and x % 4 != 0)\n",
        "print(res)"
      ],
      "metadata": {
        "id": "XcOMpwP6Wlhq",
        "colab": {
          "base_uri": "https://localhost:8080/"
        },
        "outputId": "3bba00b1-e7e1-4fc2-af4d-8de563099d50"
      },
      "execution_count": 10,
      "outputs": [
        {
          "output_type": "stream",
          "name": "stdout",
          "text": [
            "(6, 18, 30, 42, 54, 66, 78, 90, 102)\n"
          ]
        }
      ]
    },
    {
      "cell_type": "markdown",
      "source": [
        "\n",
        "\n",
        "**Problem 2**\n",
        "\n",
        "Write a function that takes a two-dimensional array and a string as input and returns an array rotated 90 degrees counterclockwise if the string 'left' was passed, and clockwise if the string 'right' was passed.\n",
        "\n",
        "Example for input: $\\begin{bmatrix} 1 & 2 & 3 \\\\ 4 & 5 & 6 \\\\ 7 & 8 & 9 \\end{bmatrix}$.\\\n",
        "If the string 'left' is passed, the function should return $\\begin{bmatrix} 3 & 6 & 9 \\\\ 2 & 5 & 8 \\\\ 1 & 4 & 7 \\end{bmatrix}$, and if the string 'right' is passed, the function should return $\\begin{bmatrix} 7 & 4 & 1 \\\\ 8 & 5 & 2 \\\\ 9 & 6 & 3 \\end{bmatrix}$."
      ],
      "metadata": {
        "id": "p6HnVzAGhexK"
      }
    },
    {
      "cell_type": "code",
      "source": [
        "def rotate_matrix(matrix, string):\n",
        "  if string == 'left':\n",
        "     return [list(row) for row in zip(*matrix)][::-1]\n",
        "  elif string == 'right':\n",
        "    return [list(row) for row in zip(*matrix[::-1])]\n",
        "  else:\n",
        "     raise ValueError(\"please enter matrix, 'left' or 'right'.\")\n",
        "# распаковываем по строкам, создаем новые, преобразуем в списки\n",
        "# пример использования:\n",
        "matrix = [[1, 2, 3], [4, 5, 6], [7, 8, 9]]\n",
        "print(rotate_matrix(matrix, 'left'))\n",
        "print(rotate_matrix(matrix, 'right'))\n"
      ],
      "metadata": {
        "colab": {
          "base_uri": "https://localhost:8080/"
        },
        "id": "8rzM-mMQI7MO",
        "outputId": "77df0207-ee58-4929-8b92-ccfbc839176f"
      },
      "execution_count": 34,
      "outputs": [
        {
          "output_type": "stream",
          "name": "stdout",
          "text": [
            "[[3, 6, 9], [2, 5, 8], [1, 4, 7]]\n",
            "[[7, 4, 1], [8, 5, 2], [9, 6, 3]]\n"
          ]
        }
      ]
    },
    {
      "cell_type": "markdown",
      "source": [
        "\n",
        "\n",
        "**Problem 3**\n",
        "\n",
        "Write a function that takes a string as input and returns a dictionary containing the number of occurrences of each character in the string.\n",
        "\n",
        "Example for the string 'hello, world!': {'h': 1, 'e': 1, 'l': 3, 'o': 2, ',': 1, ' ': 1, 'w': 1, 'r': 1, 'd': 1, '!': 1}."
      ],
      "metadata": {
        "id": "RF20EtHYOU3y"
      }
    },
    {
      "cell_type": "code",
      "source": [
        "def count_symbols(string):\n",
        "\n",
        "  symb_count = {}\n",
        "  for symb in string:\n",
        "    if symb in symb_count:\n",
        "      symb_count[symb] += 1\n",
        "    else:\n",
        "      symb_count[symb] = 1\n",
        "  return symb_count\n",
        "\n",
        "# пример использования:\n",
        "print(count_symbols('hello, world!'))"
      ],
      "metadata": {
        "colab": {
          "base_uri": "https://localhost:8080/"
        },
        "id": "fvaW5mQbOdq5",
        "outputId": "70ddf4fd-e3bc-4129-b1d4-692480dff6de"
      },
      "execution_count": 48,
      "outputs": [
        {
          "output_type": "stream",
          "name": "stdout",
          "text": [
            "{'h': 1, 'e': 1, 'l': 3, 'o': 2, ',': 1, ' ': 1, 'w': 1, 'r': 1, 'd': 1, '!': 1}\n"
          ]
        }
      ]
    }
  ]
}